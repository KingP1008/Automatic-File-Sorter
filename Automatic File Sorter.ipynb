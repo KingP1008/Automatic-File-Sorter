{
 "cells": [
  {
   "cell_type": "code",
   "execution_count": 39,
   "id": "f63349ac-21d6-4ab8-94f3-1ae1f6178fe0",
   "metadata": {},
   "outputs": [],
   "source": [
    "import os, shutil"
   ]
  },
  {
   "cell_type": "code",
   "execution_count": 41,
   "id": "7b65dfcc-50a0-4dbf-8abf-48a60757ffee",
   "metadata": {},
   "outputs": [],
   "source": [
    "path = r\"C:/Users/PRINCE/Documents/Automatic File Sorter/\""
   ]
  },
  {
   "cell_type": "code",
   "execution_count": 43,
   "id": "f196526e-c1b7-4c5c-af72-1605b27a7b83",
   "metadata": {},
   "outputs": [],
   "source": [
    "file_name = os.listdir(path)"
   ]
  },
  {
   "cell_type": "code",
   "execution_count": 45,
   "id": "04c33f8e-41d2-4ff5-80df-4a6f40d0227f",
   "metadata": {},
   "outputs": [],
   "source": [
    "folder_name = [\"csv files\", \"exe files\", \"image files\", \"text files\"]\n",
    "\n",
    "for loop in range(0,4):\n",
    "    if not os.path.exists(path + folder_name[loop]):\n",
    "        os.makedirs(path + folder_name[loop])\n",
    "for file in file_name:\n",
    "    if \".csv\" in file and not os.path.exists(path + \"csv files/\" + file):\n",
    "        shutil.move(path + file, path + \"csv files/\" + file)\n",
    "    if \".exe\" in file and not os.path.exists(path + \"exe files/\" + file):\n",
    "        shutil.move(path + file, path + \"exe files/\" + file)\n",
    "    if \".jpg\" in file and not os.path.exists(path + \"image files/\" + file):\n",
    "        shutil.move(path + file, path + \"image files/\" + file)\n",
    "    if \".pdf\" in file and not os.path.exists(path + \"text files/\" + file):\n",
    "        shutil.move(path + file, path + \"text files/\" + file)"
   ]
  },
  {
   "cell_type": "code",
   "execution_count": null,
   "id": "741ba781-4e05-4d73-9763-8e146ec30186",
   "metadata": {},
   "outputs": [],
   "source": []
  },
  {
   "cell_type": "code",
   "execution_count": null,
   "id": "6aee79c0-d67c-44c3-a3d8-cdb2e1a53d1f",
   "metadata": {},
   "outputs": [],
   "source": []
  },
  {
   "cell_type": "code",
   "execution_count": null,
   "id": "a7d3838f-88ae-4804-8b01-cd836d14ea04",
   "metadata": {},
   "outputs": [],
   "source": []
  }
 ],
 "metadata": {
  "kernelspec": {
   "display_name": "Python 3 (ipykernel)",
   "language": "python",
   "name": "python3"
  },
  "language_info": {
   "codemirror_mode": {
    "name": "ipython",
    "version": 3
   },
   "file_extension": ".py",
   "mimetype": "text/x-python",
   "name": "python",
   "nbconvert_exporter": "python",
   "pygments_lexer": "ipython3",
   "version": "3.12.4"
  }
 },
 "nbformat": 4,
 "nbformat_minor": 5
}
